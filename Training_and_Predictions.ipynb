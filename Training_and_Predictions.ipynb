{
  "nbformat": 4,
  "nbformat_minor": 0,
  "metadata": {
    "colab": {
      "name": "Training_and_Predictions.ipynb",
      "provenance": []
    },
    "kernelspec": {
      "name": "python3",
      "display_name": "Python 3"
    },
    "language_info": {
      "name": "python"
    }
  },
  "cells": [
    {
      "cell_type": "code",
      "execution_count": 1,
      "metadata": {
        "id": "Y6zj-eIgQEur"
      },
      "outputs": [],
      "source": [
        "#first uppload the training files"
      ]
    },
    {
      "cell_type": "code",
      "source": [
        "import pandas as pd\n",
        "import numpy as np\n",
        "import matplotlib.pyplot as plt\n",
        "df = pd.read_csv('train.csv')\n",
        "popped_col = df.pop('id')"
      ],
      "metadata": {
        "id": "skNH8HKJQNIO"
      },
      "execution_count": null,
      "outputs": []
    },
    {
      "cell_type": "code",
      "source": [
        "#Converting all the categorical columns to numerical\n",
        "for col_name in df.columns:\n",
        "    if(df[col_name].dtype == 'object'):\n",
        "        df[col_name]= df[col_name].astype('category')\n",
        "        df[col_name] = df[col_name].cat.codes\n",
        "\n",
        "for col_name in df.columns:\n",
        "    if(df[col_name].dtype == 'str'):\n",
        "        df[col_name]= df[col_name].astype('category')\n",
        "        df[col_name] = df[col_name].cat.codes"
      ],
      "metadata": {
        "id": "92n7163BQYbF"
      },
      "execution_count": null,
      "outputs": []
    },
    {
      "cell_type": "code",
      "source": [
        "#Seperating features and labels\n",
        "X = df.iloc[:, :93].values\n",
        "y = df.iloc[:, -1].values"
      ],
      "metadata": {
        "id": "fRMmgoR_QZpG"
      },
      "execution_count": null,
      "outputs": []
    },
    {
      "cell_type": "code",
      "source": [
        "from sklearn.linear_model import LogisticRegression\n",
        "log_Regressor = LogisticRegression()\n",
        "log_Regressor.fit(X , y)"
      ],
      "metadata": {
        "id": "m1sV9TIqQbrC"
      },
      "execution_count": null,
      "outputs": []
    },
    {
      "cell_type": "code",
      "source": [
        "df2 = pd.read_csv('test2.csv')\n",
        "popped_col2 = df2.pop('id')"
      ],
      "metadata": {
        "id": "iCR5F3TKQjSq"
      },
      "execution_count": null,
      "outputs": []
    },
    {
      "cell_type": "code",
      "source": [
        "#Converting all the categorical columns to numerical\n",
        "for col_name in df2.columns:\n",
        "    if(df2[col_name].dtype == 'object'):\n",
        "        df2[col_name]= df2[col_name].astype('category')\n",
        "        df2[col_name] = df2[col_name].cat.codes\n",
        "\n",
        "for col_name in df2.columns:\n",
        "    if(df2[col_name].dtype == 'str'):\n",
        "        df2[col_name]= df2[col_name].astype('category')\n",
        "        df2[col_name] = df2[col_name].cat.codes"
      ],
      "metadata": {
        "id": "gxNR_iW9Qlqn"
      },
      "execution_count": null,
      "outputs": []
    },
    {
      "cell_type": "code",
      "source": [
        "#Seperating features and labels\n",
        "X2 = df2.iloc[:, :93].values\n",
        "y2 = df2.iloc[:, -1].values\n",
        "\n",
        "#Predicting the results for the test set\n",
        "y_pred = log_Regressor.predict(X2)\n",
        "\n",
        "y_pred"
      ],
      "metadata": {
        "id": "s5BvG0bMQp5c"
      },
      "execution_count": null,
      "outputs": []
    },
    {
      "cell_type": "code",
      "source": [
        "dataFrame = pd.DataFrame(y_pred, columns = ['target'])\n",
        "#The popped column is to be named Id\n",
        "popped_column = pd.DataFrame(popped_col2, columns = ['id'])\n",
        "dataFrame.to_csv('predictions.csv', index=False)\n",
        "popped_column.to_csv('id.csv', index=False)\n",
        "\n",
        "files.download('predictions.csv')\n",
        "files.download('id.csv')"
      ],
      "metadata": {
        "id": "xOg592R0QuBe"
      },
      "execution_count": null,
      "outputs": []
    }
  ]
}